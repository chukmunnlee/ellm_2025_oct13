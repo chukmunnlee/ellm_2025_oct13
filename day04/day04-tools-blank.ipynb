{
 "cells": [
  {
   "cell_type": "markdown",
   "metadata": {},
   "source": [
    "# Tools\n",
    "\n",
    "This notebook contains all the tools that will be used by the agent."
   ]
  },
  {
   "cell_type": "code",
   "execution_count": 2,
   "metadata": {},
   "outputs": [],
   "source": [
    "import requests\n",
    "import sqlite3\n",
    "import pandas as pd\n",
    "\n",
    "from smolagents import tool, Tool\n",
    "\n",
    "from langchain_community.tools.ddg_search.tool import DuckDuckGoSearchRun"
   ]
  },
  {
   "cell_type": "markdown",
   "metadata": {},
   "source": [
    "## Creating simple tool\n",
    "\n",
    "A Python function must be annotated with `@tool`. It should also have a docstring describing what does the function do, what does it return and the description of its parameters."
   ]
  },
  {
   "cell_type": "markdown",
   "metadata": {},
   "source": [
    "### City to location \n",
    "\n",
    "The following function look up at latitude and longitude of a city."
   ]
  },
  {
   "cell_type": "code",
   "execution_count": null,
   "metadata": {},
   "outputs": [],
   "source": [
    "# TODO: Load CSV file containing latitude, longitude and altitude of cities\n",
    "# https://github.com/bahar/WorldCityLocations/tree/master\n",
    "df = pd.read_csv('./data/cities_latlng.csv', sep=\";\")\n",
    "\n",
    "# Add headers to our data frame\n",
    "df.columns = [ 'id', 'country', 'city', 'latitude', 'longitude', 'altitude']\n",
    "\n",
    "# Drop country column\n",
    "df.drop('country', axis=1, inplace=True)"
   ]
  },
  {
   "cell_type": "code",
   "execution_count": 4,
   "metadata": {},
   "outputs": [
    {
     "data": {
      "text/html": [
       "<div>\n",
       "<style scoped>\n",
       "    .dataframe tbody tr th:only-of-type {\n",
       "        vertical-align: middle;\n",
       "    }\n",
       "\n",
       "    .dataframe tbody tr th {\n",
       "        vertical-align: top;\n",
       "    }\n",
       "\n",
       "    .dataframe thead th {\n",
       "        text-align: right;\n",
       "    }\n",
       "</style>\n",
       "<table border=\"1\" class=\"dataframe\">\n",
       "  <thead>\n",
       "    <tr style=\"text-align: right;\">\n",
       "      <th></th>\n",
       "      <th>id</th>\n",
       "      <th>city</th>\n",
       "      <th>latitude</th>\n",
       "      <th>longitude</th>\n",
       "      <th>altitude</th>\n",
       "    </tr>\n",
       "  </thead>\n",
       "  <tbody>\n",
       "    <tr>\n",
       "      <th>0</th>\n",
       "      <td>2</td>\n",
       "      <td>Kandahar</td>\n",
       "      <td>31.610000</td>\n",
       "      <td>65.699997</td>\n",
       "      <td>1015</td>\n",
       "    </tr>\n",
       "    <tr>\n",
       "      <th>1</th>\n",
       "      <td>3</td>\n",
       "      <td>Mazar-e Sharif</td>\n",
       "      <td>36.706944</td>\n",
       "      <td>67.112221</td>\n",
       "      <td>369</td>\n",
       "    </tr>\n",
       "    <tr>\n",
       "      <th>2</th>\n",
       "      <td>4</td>\n",
       "      <td>Herat</td>\n",
       "      <td>34.340000</td>\n",
       "      <td>62.189999</td>\n",
       "      <td>927</td>\n",
       "    </tr>\n",
       "    <tr>\n",
       "      <th>3</th>\n",
       "      <td>5</td>\n",
       "      <td>Jalalabad</td>\n",
       "      <td>34.420000</td>\n",
       "      <td>70.449997</td>\n",
       "      <td>573</td>\n",
       "    </tr>\n",
       "    <tr>\n",
       "      <th>4</th>\n",
       "      <td>6</td>\n",
       "      <td>Konduz</td>\n",
       "      <td>36.720000</td>\n",
       "      <td>68.860001</td>\n",
       "      <td>394</td>\n",
       "    </tr>\n",
       "  </tbody>\n",
       "</table>\n",
       "</div>"
      ],
      "text/plain": [
       "   id            city   latitude  longitude  altitude\n",
       "0   2        Kandahar  31.610000  65.699997      1015\n",
       "1   3  Mazar-e Sharif  36.706944  67.112221       369\n",
       "2   4           Herat  34.340000  62.189999       927\n",
       "3   5       Jalalabad  34.420000  70.449997       573\n",
       "4   6          Konduz  36.720000  68.860001       394"
      ]
     },
     "execution_count": 4,
     "metadata": {},
     "output_type": "execute_result"
    }
   ],
   "source": [
    "# TODO: Explore the loaded dataframe\n",
    "df.head()"
   ]
  },
  {
   "cell_type": "code",
   "execution_count": 7,
   "metadata": {},
   "outputs": [
    {
     "data": {
      "text/html": [
       "<div>\n",
       "<style scoped>\n",
       "    .dataframe tbody tr th:only-of-type {\n",
       "        vertical-align: middle;\n",
       "    }\n",
       "\n",
       "    .dataframe tbody tr th {\n",
       "        vertical-align: top;\n",
       "    }\n",
       "\n",
       "    .dataframe thead th {\n",
       "        text-align: right;\n",
       "    }\n",
       "</style>\n",
       "<table border=\"1\" class=\"dataframe\">\n",
       "  <thead>\n",
       "    <tr style=\"text-align: right;\">\n",
       "      <th></th>\n",
       "      <th>id</th>\n",
       "      <th>city</th>\n",
       "      <th>latitude</th>\n",
       "      <th>longitude</th>\n",
       "      <th>altitude</th>\n",
       "    </tr>\n",
       "  </thead>\n",
       "  <tbody>\n",
       "    <tr>\n",
       "      <th>10566</th>\n",
       "      <td>10568</td>\n",
       "      <td>Singapore</td>\n",
       "      <td>1.29027</td>\n",
       "      <td>103.851959</td>\n",
       "      <td>164</td>\n",
       "    </tr>\n",
       "  </tbody>\n",
       "</table>\n",
       "</div>"
      ],
      "text/plain": [
       "          id       city  latitude   longitude  altitude\n",
       "10566  10568  Singapore   1.29027  103.851959       164"
      ]
     },
     "execution_count": 7,
     "metadata": {},
     "output_type": "execute_result"
    }
   ],
   "source": [
    "df[df['city'] == 'Singapore']"
   ]
  },
  {
   "cell_type": "code",
   "execution_count": 14,
   "metadata": {},
   "outputs": [],
   "source": [
    "# TODO: Add tool description\n",
    "\n",
    "# Decorate the function with @tool\n",
    "@tool\n",
    "def get_latlng(city: str) -> any:\n",
    "   \"\"\"\n",
    "   Get the latitude, longitude and altitude of a city \n",
    "   \n",
    "   Args:\n",
    "      city: the city name \n",
    "   \n",
    "   Returns:\n",
    "      any: dictionary with the following keys: city, latitude, longitude, altitude\n",
    "\n",
    "   Example:\n",
    "      result = get_latlag('tokyo')\n",
    "   \"\"\"\n",
    "   r = df.query(f\"city.str.lower() == '{city.lower()}'\")\n",
    "   return { 'city': city, 'latitude': float(r.iloc[0]['latitude']), 'longitude': float(r.iloc[0]['longitude']), 'altitude': float(r.iloc[0]['altitude']) }"
   ]
  },
  {
   "cell_type": "code",
   "execution_count": 15,
   "metadata": {},
   "outputs": [
    {
     "data": {
      "text/plain": [
       "{'city': 'tokyo',\n",
       " 'latitude': 35.6895266,\n",
       " 'longitude': 139.6916809,\n",
       " 'altitude': 40.0}"
      ]
     },
     "execution_count": 15,
     "metadata": {},
     "output_type": "execute_result"
    }
   ],
   "source": [
    "# TODO: Test get_latlng method\n",
    "# case insensitive search\n",
    "get_latlng('tokyo')"
   ]
  },
  {
   "cell_type": "markdown",
   "metadata": {},
   "source": [
    "### Temperature at latitude and longitude\n",
    "\n",
    "The following function lookup the weather at the given latitude and longtude."
   ]
  },
  {
   "cell_type": "code",
   "execution_count": null,
   "metadata": {},
   "outputs": [],
   "source": [
    "# TODO: Add tool description\n",
    "@tool\n",
    "def get_temperature(latitude: float, longitude: float) -> any:\n",
    "   \"\"\" \n",
    "   Get the temperate of a location given by its latitude and longitude\n",
    "   Args:\n",
    "      latitude: latitude of a location\n",
    "      longitude: corresponding longitude of a location\n",
    "   Returns:\n",
    "      any: dictionary with the following keys: temperature_unit, temperature\n",
    "   Example:\n",
    "      result = get_temperature(35.6895266, 139.6916809)\n",
    "   \"\"\"\n",
    "   url = f\"https://api.open-meteo.com/v1/forecast?latitude={latitude}&longitude={longitude}&current=temperature_2m\"\n",
    "   resp = requests.get(url)\n",
    "   j = resp.json()\n",
    "   if resp.status_code >= 400:\n",
    "      raise Exception(j['reason'])\n",
    "   temperature = j['current']['temperature_2m']\n",
    "   units = j['current_units']['temperature_2m']\n",
    "   return { \"temperature_unit\": units, \"temperature\": temperature }"
   ]
  },
  {
   "cell_type": "code",
   "execution_count": 17,
   "metadata": {},
   "outputs": [
    {
     "data": {
      "text/plain": [
       "{'temperature_unit': '°C', 'temperature': 19.9}"
      ]
     },
     "execution_count": 17,
     "metadata": {},
     "output_type": "execute_result"
    }
   ],
   "source": [
    "# TODO: Test get_temperature method\n",
    "get_temperature(35.6895266, 139.6916809)"
   ]
  },
  {
   "cell_type": "code",
   "execution_count": null,
   "metadata": {},
   "outputs": [],
   "source": [
    "# TODO: Create a web search tool\n",
    "\n",
    "def web_search(query: str) -> any:\n",
    "\n",
    "   search = DuckDuckGoSearchRun()\n",
    "   return search.invoke(query)"
   ]
  },
  {
   "cell_type": "code",
   "execution_count": null,
   "metadata": {},
   "outputs": [],
   "source": [
    "# TODO: Test the web search\n"
   ]
  },
  {
   "cell_type": "markdown",
   "metadata": {},
   "source": [
    "### Query relational database\n",
    "\n",
    "The following function queries a relational database (SQLite) view called `album_track`. The table's schema is as follows:\n",
    "| Field name  | Type          |\n",
    "|-------------|---------------| \n",
    "| AlbumId     | integer       |\n",
    "| Title       | nvarchar(160) |\n",
    "| track_name  | nvarchar(200) |\n",
    "| artist_name | nvarchar(120) |\n",
    "| duration    | integer       |\n",
    "| composer    | nvarchar(220) |\n"
   ]
  },
  {
   "cell_type": "code",
   "execution_count": 23,
   "metadata": {},
   "outputs": [],
   "source": [
    "# TODO: Add tool description\n",
    "@tool\n",
    "def query_album_track(query: str) -> any:\n",
    "   \"\"\" \n",
    "   Perform SQL queries on the album_track table. Returns the result as an array of tuples. \n",
    "   The table name is album_track and has the follwing columns:\n",
    "      AlbumId: integer\n",
    "      Title: nvarchar(160)\n",
    "      track_name: nvarchar(200)\n",
    "      artist_name: nvarchar(120)\n",
    "      duration: integer\n",
    "      composer: nvarchar(220)\n",
    "   The duration column is in milliseconds\n",
    "\n",
    "   Args:\n",
    "      query: Valid SQL statement\n",
    "\n",
    "   Returns:\n",
    "      any: list of tuple. Each element of the tuple corresponds to the result of the query\n",
    "\n",
    "   Example:\n",
    "      results = query_album_track('select count(*) from album_track')\n",
    "   \"\"\"\n",
    "   database = \"data/chinook_sqlite.sqlite\" \n",
    "   conn = sqlite3.connect(database)\n",
    "   try:\n",
    "      cursor = conn.cursor() \n",
    "      rows = cursor.execute(query)\n",
    "      return rows.fetchall()\n",
    "   finally:\n",
    "      conn.close()"
   ]
  },
  {
   "cell_type": "code",
   "execution_count": 22,
   "metadata": {},
   "outputs": [
    {
     "data": {
      "text/plain": [
       "[('Chemical Wedding', 'King In Crimson', 'Bruce Dickinson'),\n",
       " ('Chemical Wedding', 'Chemical Wedding', 'Bruce Dickinson'),\n",
       " ('Chemical Wedding', 'The Tower', 'Bruce Dickinson'),\n",
       " ('Chemical Wedding', 'Killing Floor', 'Bruce Dickinson'),\n",
       " ('Chemical Wedding', 'Book Of Thel', 'Bruce Dickinson'),\n",
       " ('Chemical Wedding', 'Gates Of Urizen', 'Bruce Dickinson'),\n",
       " ('Chemical Wedding', 'Jerusalem', 'Bruce Dickinson'),\n",
       " ('Chemical Wedding', 'Trupets Of Jericho', 'Bruce Dickinson'),\n",
       " ('Chemical Wedding', 'Machine Men', 'Bruce Dickinson'),\n",
       " ('Chemical Wedding', 'The Alchemist', 'Bruce Dickinson'),\n",
       " ('Chemical Wedding', 'Realword', 'Bruce Dickinson'),\n",
       " ('Out Of Time', 'Shiny Happy People', 'R.E.M. Feat. Kate Pearson'),\n",
       " ('Out Of Time', 'Me In Honey', 'R.E.M. Feat. Kate Pearson'),\n",
       " ('Out Of Time', 'Radio Song', 'R.E.M. Feat. Kate Pearson'),\n",
       " ('Out Of Time', 'Losing My Religion', 'R.E.M. Feat. Kate Pearson'),\n",
       " ('Out Of Time', 'Low', 'R.E.M. Feat. Kate Pearson'),\n",
       " ('Out Of Time', 'Near Wild Heaven', 'R.E.M. Feat. Kate Pearson'),\n",
       " ('Out Of Time', 'Endgame', 'R.E.M. Feat. Kate Pearson'),\n",
       " ('Out Of Time', 'Belong', 'R.E.M. Feat. Kate Pearson'),\n",
       " ('Out Of Time', 'Half A World Away', 'R.E.M. Feat. Kate Pearson'),\n",
       " ('Out Of Time', 'Texarkana', 'R.E.M. Feat. Kate Pearson'),\n",
       " ('Out Of Time', 'Country Feedback', 'R.E.M. Feat. Kate Pearson'),\n",
       " ('Prokofiev: Romeo & Juliet',\n",
       "  'Romeo et Juliette: No. 11 - Danse des Chevaliers',\n",
       "  'Michael Tilson Thomas & San Francisco Symphony'),\n",
       " ('Berlioz: Symphonie Fantastique',\n",
       "  \"Symphonie Fantastique, Op. 14: V. Songe d'une nuit du sabbat\",\n",
       "  'Michael Tilson Thomas & San Francisco Symphony'),\n",
       " (\"Schubert: The Late String Quartets & String Quintet (3 CD's)\",\n",
       "  'String Quartet No. 12 in C Minor, D. 703 \"Quartettsatz\": II. Andante - Allegro assai',\n",
       "  'Emerson String Quartet')]"
      ]
     },
     "execution_count": 22,
     "metadata": {},
     "output_type": "execute_result"
    }
   ],
   "source": [
    "# TODO: Test the query_album_track function\n",
    "query_album_track('select title, track_name, artist_name from album_track where artist_name like \"%son%\"')"
   ]
  },
  {
   "cell_type": "markdown",
   "metadata": {},
   "source": [
    "### Tools with states\n",
    "\n",
    "The following isn an example of a more complex tool that requires initialisation"
   ]
  },
  {
   "cell_type": "code",
   "execution_count": null,
   "metadata": {},
   "outputs": [],
   "source": [
    "class SQLiteTool(Tool):\n",
    "\n",
    "   # need to give the tool a name\n",
    "   name = \"artist_database\"\n",
    "\n",
    "   # description \n",
    "   description = \"\"\" \n",
    "   Perform SQL queries on the album_track table. Returns the result as an array of tuples. \n",
    "   The table name is album_track and has the follwing columns:\n",
    "      AlbumId: integer\n",
    "      Title: nvarchar(160)\n",
    "      track_name: nvarchar(200)\n",
    "      artist_name: nvarchar(120)\n",
    "      duration: integer\n",
    "      composer: nvarchar(220)\n",
    "   The duration column is in milliseconds\n",
    "   \"\"\"\n",
    "\n",
    "   # arguments \n",
    "   inputs = {\n",
    "      \"query\": {\n",
    "         \"type\": \"string\", \n",
    "         \"description\": \"Valid SQL statement\"\n",
    "      }\n",
    "   }\n",
    "\n",
    "   # Return type\n",
    "   output_type = \"any\"\n",
    "\n",
    "   def __init__(self, db_file):\n",
    "      self.db_file = db_file \n",
    "      self.setup()\n",
    "\n",
    "   def setup(self):\n",
    "      super().setup()\n",
    "      self.conn = sqlite3.connect(self.db_file)\n",
    "\n",
    "   def forward(self, query: str) -> any:\n",
    "      try:\n",
    "         cursor = self.conn.cursor() \n",
    "         rows = cursor.execute(query)\n",
    "         return rows.fetchall()\n",
    "      except Exception as e:\n",
    "         print(f'Query exception: {e}')  "
   ]
  }
 ],
 "metadata": {
  "kernelspec": {
   "display_name": "genai_workhop_templates",
   "language": "python",
   "name": "python3"
  },
  "language_info": {
   "codemirror_mode": {
    "name": "ipython",
    "version": 3
   },
   "file_extension": ".py",
   "mimetype": "text/x-python",
   "name": "python",
   "nbconvert_exporter": "python",
   "pygments_lexer": "ipython3",
   "version": "3.12.3"
  }
 },
 "nbformat": 4,
 "nbformat_minor": 2
}
